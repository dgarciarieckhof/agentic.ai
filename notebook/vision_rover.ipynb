{
 "cells": [
  {
   "cell_type": "code",
   "execution_count": null,
   "metadata": {},
   "outputs": [],
   "source": [
    "import os\n",
    "import nest_asyncio\n",
    "from dotenv import load_dotenv\n",
    "from langchain_openai import ChatOpenAI\n",
    "from langgraph.graph import END, START, StateGraph\n",
    "from langchain_core.runnables import RunnableLambda\n",
    "from langchain_core.runnables import RunnablePassthrough\n",
    "from langchain_core.output_parsers import StrOutputParser\n",
    "from langchain_core.runnables import chain as chain_decorator\n",
    "from langchain_core.messages import BaseMessage, SystemMessage, HumanMessage\n",
    "from langchain_core.prompts import ChatPromptTemplate, SystemMessagePromptTemplate, PromptTemplate"
   ]
  },
  {
   "cell_type": "markdown",
   "metadata": {},
   "source": [
    "### Set up"
   ]
  },
  {
   "cell_type": "code",
   "execution_count": null,
   "metadata": {},
   "outputs": [],
   "source": [
    "# This is required for running async playwright in a Jupyter notebook\n",
    "nest_asyncio.apply()"
   ]
  },
  {
   "cell_type": "code",
   "execution_count": null,
   "metadata": {},
   "outputs": [],
   "source": [
    "# Change directory\n",
    "path = os.getcwd()\n",
    "os.chdir(os.path.dirname(path))"
   ]
  },
  {
   "cell_type": "code",
   "execution_count": null,
   "metadata": {},
   "outputs": [],
   "source": [
    "from source.vision_rover import *"
   ]
  },
  {
   "cell_type": "code",
   "execution_count": null,
   "metadata": {},
   "outputs": [],
   "source": [
    "# Load env vars and config file\n",
    "load_dotenv()\n",
    "\n",
    "HF_TOKEN = os.environ.get(\"HF_TOKEN\")\n",
    "OPENROUTER = os.environ.get(\"OPENROUTER_API_KEY\")\n",
    "llm_config = load_yaml(\"conf/config.yaml\")[\"llm\"]"
   ]
  },
  {
   "cell_type": "markdown",
   "metadata": {},
   "source": [
    "### System prompt"
   ]
  },
  {
   "cell_type": "code",
   "execution_count": null,
   "metadata": {},
   "outputs": [],
   "source": [
    "# Creating ReAct-specific prompt\n",
    "react_prompt_template = \"\"\"You are an intelligent web navigation agent that helps users accomplish tasks online.\n",
    "\n",
    "Follow the ReAct (Reasoning, Action) framework to step through the process:\n",
    "1. Reason about the current state and options\n",
    "2. Create a plan (or update the existing plan)\n",
    "3. Choose an action to execute\n",
    "\n",
    "Current task: {input}\n",
    "\n",
    "Current website: {page_url}\n",
    "\n",
    "{bbox_descriptions}\n",
    "\n",
    "{scratchpad_content}\n",
    "\n",
    "Based on what you can see in the browser:\n",
    "1. Analyze the current state and available options\n",
    "2. Update or create a plan to achieve the goal\n",
    "3. Select ONE action to take\n",
    "\n",
    "Think step by step about the task, and note any potential challenges (like popups, cookies, etc).\n",
    "\n",
    "Available actions:\n",
    "- Click [bbox_number]\n",
    "- Type [bbox_number]; [text to type]\n",
    "- Scroll [WINDOW or bbox_number]; [UP or DOWN]\n",
    "- Wait - pauses execution for a few seconds\n",
    "- GoBack - navigates back one page\n",
    "- Google - navigates to Google.com\n",
    "- ClosePopUp - attempts to close modals/popups\n",
    "- ANSWER [your final answer] - finishes the task\n",
    "\n",
    "Always structure your response as:\n",
    "\n",
    "Thought: [analysis of the current state, options, and reasoning about what to do next]\n",
    "\n",
    "Plan: [outline the steps to complete the task]\n",
    "\n",
    "Action: [ONE of the available actions]\n",
    "\"\"\""
   ]
  },
  {
   "cell_type": "markdown",
   "metadata": {},
   "source": [
    "### Set up the LLM"
   ]
  },
  {
   "cell_type": "code",
   "execution_count": null,
   "metadata": {},
   "outputs": [],
   "source": [
    "# Set up the LLM\n",
    "llm = ChatOpenAI(\n",
    "    model=llm_config[\"gemini\"],\n",
    "    base_url=llm_config[\"base_url\"],\n",
    "    api_key=OPENROUTER,\n",
    "    max_tokens=8000,\n",
    "    temperature=0.1)"
   ]
  },
  {
   "cell_type": "code",
   "execution_count": null,
   "metadata": {},
   "outputs": [],
   "source": [
    "# Create the agent with ReAct framework\n",
    "agent = (\n",
    "    annotate\n",
    "    | RunnablePassthrough.assign(\n",
    "        prediction=(\n",
    "            RunnableLambda(format_descriptions)\n",
    "            | RunnableLambda(create_react_prompt)\n",
    "            | ChatPromptTemplate.from_template(react_prompt_template)\n",
    "            | llm\n",
    "            | StrOutputParser()\n",
    "            | RunnableLambda(parse_react_output)\n",
    "        ),\n",
    "    )\n",
    ")"
   ]
  },
  {
   "cell_type": "markdown",
   "metadata": {},
   "source": [
    "### Build the graph"
   ]
  },
  {
   "cell_type": "code",
   "execution_count": null,
   "metadata": {},
   "outputs": [],
   "source": [
    "# Build the graph\n",
    "graph_builder = StateGraph(AgentState)\n",
    "\n",
    "graph_builder.add_node(\"agent\", agent)\n",
    "graph_builder.add_edge(START, \"agent\")\n",
    "\n",
    "graph_builder.add_node(\"update_scratchpad\", update_scratchpad_react)\n",
    "graph_builder.add_edge(\"update_scratchpad\", \"agent\")\n",
    "\n",
    "tools = {\n",
    "    \"Click\": click,\n",
    "    \"Type\": type_text,\n",
    "    \"Scroll\": scroll,\n",
    "    \"Wait\": wait,\n",
    "    \"GoBack\": go_back,\n",
    "    \"Google\": to_google,\n",
    "    \"ClosePopUp\": close_popups,\n",
    "}\n",
    "\n",
    "for node_name, tool in tools.items():\n",
    "    graph_builder.add_node(\n",
    "        node_name,\n",
    "        RunnableLambda(tool) | (lambda observation: {\"observation\": observation}),\n",
    "    )\n",
    "    graph_builder.add_edge(node_name, \"update_scratchpad\")\n",
    "\n",
    "graph_builder.add_conditional_edges(\"agent\", select_tool)\n",
    "graph = graph_builder.compile()"
   ]
  },
  {
   "cell_type": "markdown",
   "metadata": {},
   "source": [
    "### Demo"
   ]
  },
  {
   "cell_type": "code",
   "execution_count": null,
   "metadata": {},
   "outputs": [],
   "source": [
    "async def run_example(query):\n",
    "    # ANSI Color codes for terminal output\n",
    "    COLORS = {\n",
    "        \"yellow\": \"\\033[93m\",\n",
    "        \"green\": \"\\033[92m\",\n",
    "        \"blue\": \"\\033[94m\",\n",
    "        \"magenta\": \"\\033[95m\",\n",
    "        \"cyan\": \"\\033[96m\",\n",
    "        \"red\": \"\\033[91m\",\n",
    "        \"bold\": \"\\033[1m\",\n",
    "        \"underline\": \"\\033[4m\",\n",
    "        \"reset\": \"\\033[0m\",\n",
    "    }\n",
    "\n",
    "    print(f\"\\n{COLORS['bold']}{COLORS['underline']}Starting Web Navigation Agent{COLORS['reset']}\")\n",
    "    print(f\"{COLORS['blue']}Initializing browser...{COLORS['reset']}\")\n",
    "\n",
    "    browser, page = await setup_browser()\n",
    "    try:\n",
    "        print(f\"\\n{COLORS['green']}Query: {query}{COLORS['reset']}\\n\")\n",
    "\n",
    "        result = await call_agent(\n",
    "            graph,\n",
    "            query,\n",
    "            page,\n",
    "        )\n",
    "\n",
    "        print(f\"\\n{COLORS['bold']}{COLORS['underline']}Navigation Complete!{COLORS['reset']}\")\n",
    "        print(f\"{COLORS['yellow']}Task completed in {result['steps']} steps{COLORS['reset']}\")\n",
    "        print(f\"{COLORS['cyan']}Visited {len(result['visited_urls'])} unique URLs{COLORS['reset']}\")\n",
    "\n",
    "        return result\n",
    "    finally:\n",
    "        print(f\"\\n{COLORS['blue']}Closing browser...{COLORS['reset']}\")\n",
    "        await browser.close()"
   ]
  },
  {
   "cell_type": "code",
   "execution_count": null,
   "metadata": {},
   "outputs": [],
   "source": [
    "query = \"\"\"\n",
    "    Find an online store that currently shows \"In stock\", \"Pre-order\", or \"Reserve\"\n",
    "    the following item: Pokemon Plastic Model Collection Mewtwo made by Bandai.\n",
    "    Avoid at all costs pages like eBay, amazon, aliexpress, or Best Buy.\n",
    "    Remember if you are not able to continue in one page go back to google and feel\n",
    "    free to explore other pages of the search engine ranking.\n",
    "\"\"\""
   ]
  },
  {
   "cell_type": "code",
   "execution_count": null,
   "metadata": {},
   "outputs": [],
   "source": [
    "result = await run_example(query)"
   ]
  }
 ],
 "metadata": {
  "kernelspec": {
   "display_name": ".venv",
   "language": "python",
   "name": "python3"
  },
  "language_info": {
   "codemirror_mode": {
    "name": "ipython",
    "version": 3
   },
   "file_extension": ".py",
   "mimetype": "text/x-python",
   "name": "python",
   "nbconvert_exporter": "python",
   "pygments_lexer": "ipython3",
   "version": "3.12.8"
  }
 },
 "nbformat": 4,
 "nbformat_minor": 2
}
