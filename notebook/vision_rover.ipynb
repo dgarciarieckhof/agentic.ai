{
 "cells": [
  {
   "cell_type": "code",
   "execution_count": 1,
   "metadata": {},
   "outputs": [],
   "source": [
    "import os\n",
    "import nest_asyncio\n",
    "from dotenv import load_dotenv\n",
    "from langchain_openai import ChatOpenAI\n",
    "from langgraph.graph import END, START, StateGraph\n",
    "from langchain_core.runnables import RunnableLambda\n",
    "from langchain_core.runnables import RunnablePassthrough\n",
    "from langchain_core.output_parsers import StrOutputParser\n",
    "from langchain_core.runnables import chain as chain_decorator\n",
    "from langchain_core.messages import BaseMessage, SystemMessage, HumanMessage\n",
    "from langchain_core.prompts import ChatPromptTemplate, SystemMessagePromptTemplate, PromptTemplate"
   ]
  },
  {
   "cell_type": "markdown",
   "metadata": {},
   "source": [
    "### Set up"
   ]
  },
  {
   "cell_type": "code",
   "execution_count": 2,
   "metadata": {},
   "outputs": [],
   "source": [
    "# This is required for running async playwright in a Jupyter notebook\n",
    "nest_asyncio.apply()"
   ]
  },
  {
   "cell_type": "code",
   "execution_count": 3,
   "metadata": {},
   "outputs": [],
   "source": [
    "# Change directory\n",
    "path = os.getcwd()\n",
    "os.chdir(os.path.dirname(path))"
   ]
  },
  {
   "cell_type": "code",
   "execution_count": 4,
   "metadata": {},
   "outputs": [],
   "source": [
    "from source.vision_rover import *"
   ]
  },
  {
   "cell_type": "code",
   "execution_count": 5,
   "metadata": {},
   "outputs": [],
   "source": [
    "# Load env vars and config file\n",
    "load_dotenv()\n",
    "\n",
    "HF_TOKEN = os.environ.get(\"HF_TOKEN\")\n",
    "OPENROUTER = os.environ.get(\"OPENROUTER_API_KEY\")\n",
    "llm_config = load_yaml(\"conf/config.yaml\")[\"llm\"]"
   ]
  },
  {
   "cell_type": "markdown",
   "metadata": {},
   "source": [
    "### System prompt"
   ]
  },
  {
   "cell_type": "code",
   "execution_count": 6,
   "metadata": {},
   "outputs": [],
   "source": [
    "# Creating ReAct-specific prompt\n",
    "react_prompt_template = \"\"\"You are an intelligent web navigation agent that helps users accomplish tasks online.\n",
    "\n",
    "Follow the ReAct (Reasoning, Action) framework to step through the process:\n",
    "1. Reason about the current state and options\n",
    "2. Create a plan (or update the existing plan)\n",
    "3. Choose an action to execute\n",
    "\n",
    "Current task: {input}\n",
    "\n",
    "Current website: {page_url}\n",
    "\n",
    "{bbox_descriptions}\n",
    "\n",
    "{scratchpad_content}\n",
    "\n",
    "Based on what you can see in the browser:\n",
    "1. Analyze the current state and available options\n",
    "2. Update or create a plan to achieve the goal\n",
    "3. Select ONE action to take\n",
    "\n",
    "Think step by step about the task, and note any potential challenges (like popups, cookies, etc).\n",
    "\n",
    "Available actions:\n",
    "- Click [bbox_number]\n",
    "- Type [bbox_number]; [text to type]\n",
    "- Scroll [WINDOW or bbox_number]; [UP or DOWN]\n",
    "- Wait - pauses execution for a few seconds\n",
    "- GoBack - navigates back one page\n",
    "- Google - navigates to Google.com\n",
    "- ClosePopUp - attempts to close modals/popups\n",
    "- ANSWER [your final answer] - finishes the task\n",
    "\n",
    "Always structure your response as:\n",
    "\n",
    "Thought: [analysis of the current state, options, and reasoning about what to do next]\n",
    "\n",
    "Plan: [outline the steps to complete the task]\n",
    "\n",
    "Action: [ONE of the available actions]\n",
    "\"\"\""
   ]
  },
  {
   "cell_type": "markdown",
   "metadata": {},
   "source": [
    "### Set up the LLM"
   ]
  },
  {
   "cell_type": "code",
   "execution_count": 7,
   "metadata": {},
   "outputs": [],
   "source": [
    "# Set up the LLM\n",
    "llm = ChatOpenAI(\n",
    "    model=llm_config[\"gemini\"],\n",
    "    base_url=llm_config[\"base_url\"],\n",
    "    api_key=OPENROUTER,\n",
    "    max_tokens=8000,\n",
    "    temperature=0.1)"
   ]
  },
  {
   "cell_type": "code",
   "execution_count": 8,
   "metadata": {},
   "outputs": [],
   "source": [
    "# Create the agent with ReAct framework\n",
    "agent = (\n",
    "    annotate\n",
    "    | RunnablePassthrough.assign(\n",
    "        prediction=(\n",
    "            RunnableLambda(format_descriptions)\n",
    "            | RunnableLambda(create_react_prompt)\n",
    "            | ChatPromptTemplate.from_template(react_prompt_template)\n",
    "            | llm\n",
    "            | StrOutputParser()\n",
    "            | RunnableLambda(parse_react_output)\n",
    "        ),\n",
    "    )\n",
    ")"
   ]
  },
  {
   "cell_type": "markdown",
   "metadata": {},
   "source": [
    "### Build the graph"
   ]
  },
  {
   "cell_type": "code",
   "execution_count": 9,
   "metadata": {},
   "outputs": [],
   "source": [
    "# Build the graph\n",
    "graph_builder = StateGraph(AgentState)\n",
    "\n",
    "graph_builder.add_node(\"agent\", agent)\n",
    "graph_builder.add_edge(START, \"agent\")\n",
    "\n",
    "graph_builder.add_node(\"update_scratchpad\", update_scratchpad_react)\n",
    "graph_builder.add_edge(\"update_scratchpad\", \"agent\")\n",
    "\n",
    "tools = {\n",
    "    \"Click\": click,\n",
    "    \"Type\": type_text,\n",
    "    \"Scroll\": scroll,\n",
    "    \"Wait\": wait,\n",
    "    \"GoBack\": go_back,\n",
    "    \"Google\": to_google,\n",
    "    \"ClosePopUp\": close_popups,\n",
    "}\n",
    "\n",
    "for node_name, tool in tools.items():\n",
    "    graph_builder.add_node(\n",
    "        node_name,\n",
    "        RunnableLambda(tool) | (lambda observation: {\"observation\": observation}),\n",
    "    )\n",
    "    graph_builder.add_edge(node_name, \"update_scratchpad\")\n",
    "\n",
    "graph_builder.add_conditional_edges(\"agent\", select_tool)\n",
    "graph = graph_builder.compile()"
   ]
  },
  {
   "cell_type": "markdown",
   "metadata": {},
   "source": [
    "### Demo"
   ]
  },
  {
   "cell_type": "code",
   "execution_count": 10,
   "metadata": {},
   "outputs": [],
   "source": [
    "async def run_example(query):\n",
    "    # ANSI Color codes for terminal output\n",
    "    COLORS = {\n",
    "        \"yellow\": \"\\033[93m\",\n",
    "        \"green\": \"\\033[92m\",\n",
    "        \"blue\": \"\\033[94m\",\n",
    "        \"magenta\": \"\\033[95m\",\n",
    "        \"cyan\": \"\\033[96m\",\n",
    "        \"red\": \"\\033[91m\",\n",
    "        \"bold\": \"\\033[1m\",\n",
    "        \"underline\": \"\\033[4m\",\n",
    "        \"reset\": \"\\033[0m\"\n",
    "    }\n",
    "    \n",
    "    print(f\"\\n{COLORS['bold']}{COLORS['underline']}Starting Web Navigation Agent{COLORS['reset']}\")\n",
    "    print(f\"{COLORS['blue']}Initializing browser...{COLORS['reset']}\")\n",
    "    \n",
    "    browser, page = await setup_browser()\n",
    "    try:\n",
    "        print(f\"\\n{COLORS['green']}Query: {query}{COLORS['reset']}\\n\")\n",
    "        \n",
    "        result = await call_agent(\n",
    "            graph,\n",
    "            query,\n",
    "            page,\n",
    "        )\n",
    "        \n",
    "        print(f\"\\n{COLORS['bold']}{COLORS['underline']}Navigation Complete!{COLORS['reset']}\")\n",
    "        print(f\"{COLORS['yellow']}Task completed in {result['steps']} steps{COLORS['reset']}\")\n",
    "        print(f\"{COLORS['cyan']}Visited {len(result['visited_urls'])} unique URLs{COLORS['reset']}\")\n",
    "        \n",
    "        return result\n",
    "    finally:\n",
    "        print(f\"\\n{COLORS['blue']}Closing browser...{COLORS['reset']}\")\n",
    "        await browser.close()"
   ]
  },
  {
   "cell_type": "code",
   "execution_count": null,
   "metadata": {},
   "outputs": [
    {
     "name": "stdout",
     "output_type": "stream",
     "text": [
      "\u001b[93m\u001b[1mStep 1:\u001b[0m\n",
      "\u001b[92mThought: The current state is the Google homepage. The task is to find a store, excluding eBay, Amazon, and Best Buy, that has the item \"KWG00-M Rokusho\" in st...\u001b[0m\n",
      "\u001b[94mPlan: 1. Search for \"KWG00-M Rokusho\" on Google.\n",
      "2. Scan the search results, avoiding eBay, Amazon, and Best Buy links.\n",
      "3. If a promising store is found, cl...\u001b[0m\n",
      "\u001b[95mAction: Type ['4', 'KWG00-M Rokusho']\u001b[0m\n",
      "\u001b[96mURL: https://www.google.com/\u001b[0m\n",
      "---\n",
      "\u001b[93m\u001b[1mStep 2:\u001b[0m\n",
      "\u001b[92mThought: The current state is the Google search results page for \"KWG00-M Rokusho\". I need to scan the results, avoiding eBay, Amazon, and Best Buy, and find a...\u001b[0m\n",
      "\u001b[94mPlan: 1. Scan the search results, avoiding eBay, Amazon, and Best Buy links.\n",
      "2. Click on the \"Rise of Gunpla\" link.\n",
      "3. Check if the item is in stock on the ...\u001b[0m\n",
      "\u001b[95mAction: Click ['44']\u001b[0m\n",
      "\u001b[96mURL: https://www.google.com/search?q=KWG00-M+Rokusho&sca_esv=986fab27ce48bd4c&source=hp&ei=8gXOZ7GxAo2AhuMP04-P2QQ&iflsig=ACkRmUkAAAAAZ84UAhbrcrMmuT0sTnF6rVkn6WjTnHiO&ved=0ahUKEwix8uHR9v2LAxUNgGEGHdPHI0sQ4dUDCA4&uact=5&oq=KWG00-M+Rokusho&gs_lp=Egdnd3Mtd2l6Ig9LV0cwMC1NIFJva3VzaG8yChAAGAMY6gIYjwEyChAuGAMY6gIYjwEyChAAGAMY6gIYjwEyChAAGAMY6gIYjwEyChAAGAMY6gIYjwEyChAAGAMY6gIYjwEyChAAGAMY6gIYjwEyChAuGAMY6gIYjwEyChAAGAMY6gIYjwEyChAAGAMY6gIYjwFIZVAmWFtwAXgAkAEAmAEAoAEAqgEAuAEDyAEA-AEBmAIBoAIFqAIKmAMF8QXdWw186BBr4ZIHATGgBwA&sclient=gws-wiz&sei=-gXOZ66GEoqK5OUPxfHG4Ak\u001b[0m\n",
      "---\n",
      "\u001b[93m\u001b[1mStep 3:\u001b[0m\n",
      "\u001b[92mThought: The current page is a product page on riseofgunpla.com, specifically for the 1/6 KWG00-M Rokusho Head & Scissors. The task is to find a store with thi...\u001b[0m\n",
      "\u001b[94mPlan: 1. Confirm that \"Añadir al carrito\" means \"Add to Cart\" and indicates availability.\n",
      "2. If it does, provide the answer.\u001b[0m\n",
      "\u001b[95mAction: ANSWER ['Rise of Gunpla (https://riseofgunpla.com/es/boutique/1-6-kwg00-m-rokusho-head-scissors) has the KWG00-M Rokusho in stock.']\u001b[0m\n",
      "\u001b[96mURL: https://riseofgunpla.com/es/boutique/1-6-kwg00-m-rokusho-head-scissors\u001b[0m\n",
      "---\n",
      "\n",
      "\u001b[91m\u001b[1mFINAL ANSWER: \u001b[0m\u001b[91mRise of Gunpla (https://riseofgunpla.com/es/boutique/1-6-kwg00-m-rokusho-head-scissors) has the KWG00-M Rokusho in stock.\u001b[0m\n",
      "\n",
      "\n",
      "\u001b[1mFinal Results:\u001b[0m\n",
      "\u001b[91mAnswer: Rise of Gunpla (https://riseofgunpla.com/es/boutique/1-6-kwg00-m-rokusho-head-scissors) has the KWG00-M Rokusho in stock.\u001b[0m\n",
      "\u001b[93mTotal steps: 3\u001b[0m\n",
      "\u001b[96mVisited URLs: 3\u001b[0m\n",
      "\n",
      "\u001b[1m\u001b[4mNavigation Complete!\u001b[0m\n",
      "\u001b[93mTask completed in 3 steps\u001b[0m\n",
      "\u001b[96mVisited 3 unique URLs\u001b[0m\n",
      "\n",
      "\u001b[94mClosing browser...\u001b[0m\n"
     ]
    }
   ],
   "source": [
    "query = \"\"\"\n",
    "    Find a store with the following item in stock (add to cart doesnt mean necesarrily \n",
    "    that its in stock): KWG00-M Rokusho Kotobukiya. Avoid eBay, Amazon, and Best Buy.\n",
    "    \"\"\"\n",
    "result = await run_example(query)"
   ]
  }
 ],
 "metadata": {
  "kernelspec": {
   "display_name": ".venv",
   "language": "python",
   "name": "python3"
  },
  "language_info": {
   "codemirror_mode": {
    "name": "ipython",
    "version": 3
   },
   "file_extension": ".py",
   "mimetype": "text/x-python",
   "name": "python",
   "nbconvert_exporter": "python",
   "pygments_lexer": "ipython3",
   "version": "3.12.8"
  }
 },
 "nbformat": 4,
 "nbformat_minor": 2
}
